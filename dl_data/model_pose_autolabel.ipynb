{
 "cells": [
  {
   "cell_type": "code",
   "execution_count": 1,
   "metadata": {},
   "outputs": [],
   "source": [
    "import os, shutil, sys\n",
    "import pandas as pd\n",
    "import numpy as np\n",
    "import ezc3d\n",
    "import matplotlib.pyplot as plt\n",
    "import matplotlib.image as image\n",
    "\n",
    "user = os.getcwd().split('\\\\')[os.getcwd().split('\\\\').index('Users') + 1]\n",
    "\n",
    "# fork https://github.com/kww-22/auto-marker-label first\n",
    "github_path = r\"c:\\users\\{}\\documents\\github\\auto-marker-label\".format(user)\n",
    "sys.path.append(github_path)\n",
    "from automarkerlabel import marker_label, import_raw_c3d, import_markerSet\n",
    "\n",
    "data_path = os.path.join(github_path, 'dl_data')\n",
    "c3d_path = os.path.join(data_path, 'test')\n",
    "modelfiles = os.listdir(c3d_path)\n",
    "modelfiles = [f for f in modelfiles if f.endswith('.c3d')]"
   ]
  },
  {
   "cell_type": "code",
   "execution_count": 3,
   "metadata": {},
   "outputs": [],
   "source": [
    "for file in modelfiles:\n",
    "    c = import_raw_c3d(os.path.join(c3d_path, file), 0)\n",
    "    pts = c[0]\n",
    "    fs_point = c[1]\n",
    "    old_labels = c[2]\n",
    "    windowSize  = int(fs_point*0.5)\n",
    "    modelpath =  os.path.join(data_path, 'model_tpose.ckpt') # need to unzip before running notebook\n",
    "    trainvalpath = os.path.join(data_path, 'trainingvals_model_tpose.pickle')\n",
    "    markersetpath = os.path.join(data_path, 'MarkerSet_DL.xml')\n",
    "    markers, segment, uniqueSegs, segID, mkcoordL, num_mks = import_markerSet(markersetpath)\n",
    "\n",
    "    new_labels, confidence, Y_pred = marker_label(pts, modelpath, trainvalpath, markersetpath, fs_point, windowSize) # where the magic happens\n",
    "\n",
    "    # export marker label key\n",
    "    csv_exp = pd.DataFrame([old_labels, new_labels, confidence]).T\n",
    "    csv_exp.columns = ['old_labels', 'new_labels', 'confidence']\n",
    "    csv_exp.to_csv(os.path.join(c3d_path, file.split('.')[0] + '_key.csv'), index=False)\n",
    "    \n",
    "    # export labelled c3d\n",
    "    # export_labelled_c3d(pts, d[0], 0, os.path.join(c3d_path, file), os.path.join(c3d_path, file.split('.')[0] + '_labelled.c3d'), markers, 0)\n"
   ]
  }
 ],
 "metadata": {
  "kernelspec": {
   "display_name": "base",
   "language": "python",
   "name": "python3"
  },
  "language_info": {
   "codemirror_mode": {
    "name": "ipython",
    "version": 3
   },
   "file_extension": ".py",
   "mimetype": "text/x-python",
   "name": "python",
   "nbconvert_exporter": "python",
   "pygments_lexer": "ipython3",
   "version": "3.8.8"
  },
  "orig_nbformat": 4,
  "vscode": {
   "interpreter": {
    "hash": "f9e2bd19b3dea8f1fa2a3c55ad93bed0a40f5bf62b4a251cf12ddb11242bb49f"
   }
  }
 },
 "nbformat": 4,
 "nbformat_minor": 2
}
